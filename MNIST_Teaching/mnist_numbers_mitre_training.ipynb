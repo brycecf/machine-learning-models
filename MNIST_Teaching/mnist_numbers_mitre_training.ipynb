{
 "cells": [
  {
   "cell_type": "markdown",
   "metadata": {},
   "source": [
    "# MNIST Handwritten Numbers \n",
    "### Author: Bryce Freshcorn\n",
    "\n",
    "#### Keras Demonstration for MITRE Corp. Training"
   ]
  },
  {
   "cell_type": "code",
   "execution_count": 1,
   "metadata": {},
   "outputs": [
    {
     "name": "stderr",
     "output_type": "stream",
     "text": [
      "Using TensorFlow backend.\n"
     ]
    }
   ],
   "source": [
    "%matplotlib inline\n",
    "from keras.datasets import mnist\n",
    "from keras.preprocessing import image\n",
    "import matplotlib.pyplot as plt\n",
    "from numpy.random import randint"
   ]
  },
  {
   "cell_type": "markdown",
   "metadata": {},
   "source": [
    "## Step 1 - Load the data\n",
    "[`keras.datasets`](https://keras.io/datasets/) module contains commonly used datasets for benchmarking neural network models. In this tutorial, we will be using the MNIST handwritten digits data.\n",
    "\n",
    "First, we need to load* the data..."
   ]
  },
  {
   "cell_type": "code",
   "execution_count": 2,
   "metadata": {},
   "outputs": [],
   "source": [
    "(x_train, y_train), (x_test, y_test) = mnist.load_data()"
   ]
  },
  {
   "cell_type": "markdown",
   "metadata": {},
   "source": [
    "\\* As you can see, the data set is actually downloaded from an S3 bucket.\n",
    "\n",
    "## Step 2 - Examine the data\n",
    "Now, let us get a better idea of what the MNIST data is like..."
   ]
  },
  {
   "cell_type": "code",
   "execution_count": 3,
   "metadata": {},
   "outputs": [
    {
     "name": "stdout",
     "output_type": "stream",
     "text": [
      "Training images matrix shape: (60000, 28, 28)\n",
      "Training labels vector shape: (60000,)\n",
      "\n",
      "Testing images matrix shape: (10000, 28, 28)\n",
      "Testing labels vector shape: (10000,)\n"
     ]
    }
   ],
   "source": [
    "print('Training images matrix shape: {}'.format(x_train.shape))\n",
    "print('Training labels vector shape: {}\\n'.format(y_train.shape))\n",
    "print('Testing images matrix shape: {}'.format(x_test.shape))\n",
    "print('Testing labels vector shape: {}'.format(y_test.shape))"
   ]
  },
  {
   "cell_type": "markdown",
   "metadata": {},
   "source": [
    "So what is shape telling us here?  The first item in the tuple is the number of training or testing (as defined) samples in the matrix or vector. \n",
    "We see that there are 60,000 images in the training set and 10,000 images in the test set.\n",
    "\n",
    "For the purposes of training our model and evaluating its performance, we want to make sure that the number of samples in `x_train` is the same as the number in `y_train`. Otherwise, it would indicate a fundamental labeling problem with our training data.  We also want to ensure this is true for the testing data as well, since we need that particular data sample to evaluate our model's performance.\n",
    "\n",
    "You should have noticed that the `y_train` and `y_test` data sets only contain one element. This tells us that these are vectors. This makes sense since these are simply labels corresponding to their samples.\n",
    "\n",
    "The last two elements in `x_train` and `y_train` tell us that the images in the MNIST data are 28x28 pixels.\n",
    "\n",
    "Now, let us take a look at what these small images actually look like..."
   ]
  },
  {
   "cell_type": "code",
   "execution_count": 4,
   "metadata": {
    "scrolled": false
   },
   "outputs": [
    {
     "data": {
      "image/png": "[encoded data removed]",
      "text/plain": [
       "<matplotlib.figure.Figure at 0x7f781e044ba8>"
      ]
     },
     "metadata": {},
     "output_type": "display_data"
    }
   ],
   "source": [
    "rand_index = randint(0, 60000, size=20)\n",
    "plt.figure(figsize=(8,6))\n",
    "for i, index in enumerate(rand_index, 1):\n",
    "    plt.subplot(4, 5, i)\n",
    "    plt.tick_params(axis='both', which='both', bottom='off',\n",
    "                    labelbottom='off', left='off', labelleft='off')\n",
    "    plt.imshow(x_train[index], cmap='gray')"
   ]
  }
 ],
 "metadata": {
  "kernelspec": {
   "display_name": "Python [conda env:keras-tf-env]",
   "language": "python",
   "name": "conda-env-keras-tf-env-py"
  },
  "language_info": {
   "codemirror_mode": {
    "name": "ipython",
    "version": 3
   },
   "file_extension": ".py",
   "mimetype": "text/x-python",
   "name": "python",
   "nbconvert_exporter": "python",
   "pygments_lexer": "ipython3",
   "version": "3.6.3"
  }
 },
 "nbformat": 4,
 "nbformat_minor": 2
}
